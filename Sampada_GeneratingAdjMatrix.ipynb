{
  "nbformat": 4,
  "nbformat_minor": 0,
  "metadata": {
    "colab": {
      "provenance": []
    },
    "kernelspec": {
      "name": "python3",
      "display_name": "Python 3"
    },
    "language_info": {
      "name": "python"
    }
  },
  "cells": [
    {
      "cell_type": "code",
      "source": [
        "#Matrix Market file and converts it to an adjacency matrix\n",
        "#file_path: Path to the Matrix Market file\n",
        "#return: Adjacency matrix as a NumPy array"
      ],
      "metadata": {
        "id": "FqOSg4Ns6z-g"
      },
      "execution_count": 1,
      "outputs": []
    },
    {
      "cell_type": "code",
      "execution_count": 2,
      "metadata": {
        "colab": {
          "base_uri": "https://localhost:8080/"
        },
        "id": "O7wR7Nm26QmD",
        "outputId": "f5df9d37-8743-41ee-97f2-7dfa43bfb34c"
      },
      "outputs": [
        {
          "output_type": "stream",
          "name": "stdout",
          "text": [
            "Requirement already satisfied: numpy in /usr/local/lib/python3.10/dist-packages (1.25.2)\n",
            "Requirement already satisfied: scipy in /usr/local/lib/python3.10/dist-packages (1.11.4)\n"
          ]
        }
      ],
      "source": [
        "!pip install numpy scipy"
      ]
    },
    {
      "cell_type": "code",
      "source": [
        "import numpy as np\n",
        "from scipy.io import mmread"
      ],
      "metadata": {
        "id": "lV-sON9C6mKl"
      },
      "execution_count": 3,
      "outputs": []
    },
    {
      "cell_type": "code",
      "source": [
        "def read_matrix_market_file(file_path):\n",
        "\n",
        "    # Read the Matrix Market file\n",
        "    matrix = mmread(file_path)\n",
        "\n",
        "    # Convert the sparse matrix to a dense matrix\n",
        "    adjacency_matrix = matrix.toarray()\n",
        "\n",
        "    return adjacency_matrix\n",
        "\n",
        "def save_to_text_file(matrix, file_path):\n",
        "    np.savetxt(file_path, matrix, fmt='%d')\n",
        "\n",
        "if __name__ == \"__main__\":\n",
        "    file_path = '/content/C4000-5.mtx'  # Replace with your actual file path\n",
        "    adjacency_matrix = read_matrix_market_file(file_path)\n",
        "\n",
        "    # Print the adjacency matrix\n",
        "    print(adjacency_matrix)\n"
      ],
      "metadata": {
        "colab": {
          "base_uri": "https://localhost:8080/"
        },
        "id": "V1PYQDZy6SGz",
        "outputId": "f0049178-a95d-4453-c0c6-08457ccd7f26"
      },
      "execution_count": 4,
      "outputs": [
        {
          "output_type": "stream",
          "name": "stdout",
          "text": [
            "[[0. 1. 1. ... 1. 1. 0.]\n",
            " [1. 0. 0. ... 1. 0. 1.]\n",
            " [1. 0. 0. ... 1. 0. 1.]\n",
            " ...\n",
            " [1. 1. 1. ... 0. 0. 0.]\n",
            " [1. 0. 0. ... 0. 0. 0.]\n",
            " [0. 1. 1. ... 0. 0. 0.]]\n"
          ]
        }
      ]
    },
    {
      "cell_type": "code",
      "source": [
        "# Save the adjacency matrix to a text file\n",
        "save_to_text_file(adjacency_matrix, '/content/adjacency_matrix.txt')\n",
        "print(adjacency_matrix)"
      ],
      "metadata": {
        "colab": {
          "base_uri": "https://localhost:8080/"
        },
        "id": "iHSNMp3hMYXR",
        "outputId": "9c5d60b4-7063-43ce-d2a1-b8aa342e9c1f"
      },
      "execution_count": 5,
      "outputs": [
        {
          "output_type": "stream",
          "name": "stdout",
          "text": [
            "[[0. 1. 1. ... 1. 1. 0.]\n",
            " [1. 0. 0. ... 1. 0. 1.]\n",
            " [1. 0. 0. ... 1. 0. 1.]\n",
            " ...\n",
            " [1. 1. 1. ... 0. 0. 0.]\n",
            " [1. 0. 0. ... 0. 0. 0.]\n",
            " [0. 1. 1. ... 0. 0. 0.]]\n"
          ]
        }
      ]
    }
  ]
}